{
 "cells": [
  {
   "cell_type": "markdown",
   "metadata": {},
   "source": [
    "# County NAICS Files\n",
    "After running the notebook, delete the python/data_raw folder<br>\n",
    "Zip level not available -> https://api.census.gov/data/2011/cbp/variables.html<br>\n",
    "This notebook is a filtered and edited version of us_econ.ipynb for generating yearly data.<br>\n",
    "For earlier code that generates averaged data aver years please refer us_econ.ipynb.<br>\n",
    "This notebook will start generating data from year 2017.\n",
    "\n"
   ]
  },
  {
   "cell_type": "code",
   "execution_count": null,
   "metadata": {},
   "outputs": [],
   "source": [
    "import csv\n",
    "import requests as r\n",
    "import pandas as pd\n",
    "import zipfile, io\n",
    "import os\n",
    "from tqdm import tqdm\n",
    "import pathlib\n",
    "import pandas as pd\n",
    "import datetime\n",
    "endyear = datetime.date.today().year\n",
    "api_headers = {}\n",
    "api_headers['x-api-key'] = '975f39a54e48438ceebf303d6018e34db212e804'"
   ]
  },
  {
   "cell_type": "code",
   "execution_count": null,
   "metadata": {},
   "outputs": [],
   "source": [
    "# Set a relative location to save the data from the request\n",
    "repo_dir = pathlib.Path().cwd()\n",
    "#print(repo_dir)\n",
    "\n",
    "raw_data_dir = repo_dir / 'data_raw'\n",
    "out_data_dir = raw_data_dir / 'BEA_Industry_Factors'\n",
    "    \n",
    "county_data_dir = out_data_dir / 'county_level'\n",
    "if not county_data_dir.exists():\n",
    "    county_data_dir.mkdir(parents=True)\n"
   ]
  }
 ],
 "metadata": {
  "language_info": {
   "name": "python"
  }
 },
 "nbformat": 4,
 "nbformat_minor": 2
}
