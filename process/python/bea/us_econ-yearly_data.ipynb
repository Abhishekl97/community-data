{
 "cells": [
  {
   "cell_type": "markdown",
   "metadata": {},
   "source": [
    "# County NAICS Files\n",
    "After running the notebook, delete the python/data_raw folder<br>\n",
    "Zip level not available -> https://api.census.gov/data/2011/cbp/variables.html<br>\n",
    "This notebook is a filtered and edited version of us_econ.ipynb for generating yearly data.<br>\n",
    "For earlier code that generates averaged data aver years please refer us_econ.ipynb.<br>\n",
    "This notebook will start generating data from year 2017.\n",
    "\n"
   ]
  },
  {
   "cell_type": "code",
   "execution_count": null,
   "metadata": {},
   "outputs": [],
   "source": [
    "import csv\n",
    "import requests as r\n",
    "import pandas as pd\n",
    "import zipfile, io\n",
    "import os\n",
    "from tqdm import tqdm\n",
    "import pathlib\n",
    "import pandas as pd\n",
    "import datetime\n",
    "endyear = datetime.date.today().year\n",
    "api_headers = {}\n",
    "api_headers['x-api-key'] = '975f39a54e48438ceebf303d6018e34db212e804'"
   ]
  },
  {
   "cell_type": "code",
   "execution_count": null,
   "metadata": {},
   "outputs": [],
   "source": [
    "# Set a relative location to save the data from the request\n",
    "repo_dir = pathlib.Path().cwd()\n",
    "#print(repo_dir)\n",
    "\n",
    "raw_data_dir = repo_dir / 'data_raw'\n",
    "out_data_dir = raw_data_dir / 'BEA_Industry_Factors'\n",
    "    \n",
    "county_data_dir = out_data_dir / 'county_level'\n",
    "if not county_data_dir.exists():\n",
    "    county_data_dir.mkdir(parents=True)"
   ]
  },
  {
   "cell_type": "code",
   "execution_count": null,
   "metadata": {},
   "outputs": [],
   "source": [
    "# Load the state FIPS codes key\n",
    "state_fips = pd.read_csv('../../../us/id_lists/state_fips.csv', usecols=['Name', 'Postal Code', 'FIPS'])\n",
    "state_fips = state_fips.head(50)  # <-- limit to only US states, not teritories"
   ]
  },
  {
   "cell_type": "code",
   "execution_count": null,
   "metadata": {},
   "outputs": [],
   "source": [
    "# Base URL for the API call\n",
    "base_url = \"https://api.census.gov/data\"\n",
    "\n",
    "#\n",
    "# NOTE Years Prior to 2012 Currently have a bug when specifying NAICS#### as one of the columns\n",
    "#      - stick to 2012 and later for now\n",
    "#\n",
    "\n",
    "def get_county_cbp(fips, state, years):\n",
    "    count = 0\n",
    "    for year in years:\n",
    "        print(f\"Getting data for state: {state}\\tyear: {year}\")\n",
    "        if year >= 2000 and year <= 2002:\n",
    "            columns_to_select = \"GEO_ID,GEO_TTL,COUNTY,YEAR,NAICS1997_TTL,ESTAB,EMP,PAYANN\"\n",
    "            url = f\"{base_url}/{year}/cbp?get={columns_to_select}&for=county:*&in=state:{fips:02d}\"\n",
    "        elif year >= 2003 and year <=2007:\n",
    "            columns_to_select = \"GEO_ID,GEO_TTL,COUNTY,YEAR,NAICS2002_TTL,ESTAB,EMP,PAYANN\"\n",
    "            url = f\"{base_url}/{year}/cbp?get={columns_to_select}&for=county:*&in=state:{fips:02d}\"\n",
    "        elif year >= 2008 and year <= 2011:\n",
    "            columns_to_select = \"GEO_ID,GEO_TTL,COUNTY,YEAR,NAICS2007_TTL,ESTAB,EMP,PAYANN\"\n",
    "            url = f\"{base_url}/{year}/cbp?get={columns_to_select}&for=county:*&in=state:{fips:02d}\"\n",
    "        elif year >= 2012 and year <= 2016:\n",
    "            columns_to_select = \"GEO_ID,GEO_TTL,COUNTY,YEAR,NAICS2012,NAICS2012_TTL,ESTAB,EMP,PAYANN\"\n",
    "            url = f\"{base_url}/{year}/cbp?get={columns_to_select}&for=county:*&in=state:{fips:02d}\"\n",
    "        elif year >= 2017:\n",
    "            columns_to_select = \"GEO_ID,NAME,COUNTY,YEAR,NAICS2017,NAICS2017_LABEL,ESTAB,EMP,PAYANN\"\n",
    "            url = f\"{base_url}/{year}/cbp?get={columns_to_select}&for=county:*&in=state:{fips:02d}\"\n",
    "    \n",
    "    \n",
    "        response = r.get(url, headers=api_headers)\n",
    "\n",
    "        with open(county_data_dir / f\"industriesPerCounty_{str.lower(state.replace(' ', ''))}_{year}.csv\",'w') as resultPath:\n",
    "            for line in response.text.strip().split('\\n'):\n",
    "                line=line.replace('[',\"\").replace(']',\"\")\n",
    "                resultPath.write(line + \"\\n\")\n",
    "\n",
    "        print(\"  > Finished CSV for year\"+str(year))"
   ]
  },
  {
   "cell_type": "code",
   "execution_count": null,
   "metadata": {},
   "outputs": [],
   "source": [
    "#Years Initialization for data generation\n",
    "startyear = 2017\n",
    "endyear = 2021"
   ]
  },
  {
   "cell_type": "code",
   "execution_count": null,
   "metadata": {},
   "outputs": [],
   "source": [
    "for fips in state_fips.FIPS.unique():\n",
    "     state = state_fips.query(f'FIPS=={fips}').values[0][0]\n",
    "     years=range(2012,endyear)\n",
    "     get_county_cbp(fips, state, years)"
   ]
  }
 ],
 "metadata": {
  "language_info": {
   "name": "python"
  }
 },
 "nbformat": 4,
 "nbformat_minor": 2
}
